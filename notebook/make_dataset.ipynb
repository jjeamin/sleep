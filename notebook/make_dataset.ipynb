{
 "cells": [
  {
   "cell_type": "code",
   "execution_count": 1,
   "metadata": {},
   "outputs": [],
   "source": [
    "import pandas as pd\n",
    "import os\n",
    "import glob\n",
    "import shutil\n",
    "import random\n",
    "import numpy as np\n",
    "import matplotlib.pyplot as plt\n",
    "from PIL import Image\n",
    "from pathlib import Path"
   ]
  },
  {
   "cell_type": "code",
   "execution_count": 2,
   "metadata": {
    "scrolled": false
   },
   "outputs": [],
   "source": [
    "DATASET_PATH = './ae_dataset'\n",
    "\n",
    "branch = 'total'\n",
    "\n",
    "use_label = ['Wake', 'N1', 'N2', 'N3', 'REM']\n",
    "\n",
    "anns = glob.glob('./data/ann*')\n",
    "images = glob.glob('./data/image*')"
   ]
  },
  {
   "cell_type": "code",
   "execution_count": 3,
   "metadata": {},
   "outputs": [],
   "source": [
    "for u in use_label:\n",
    "    path = os.path.join(DATASET_PATH, branch, u)\n",
    "\n",
    "    if not os.path.exists(path):\n",
    "        os.makedirs(path)"
   ]
  },
  {
   "cell_type": "code",
   "execution_count": 4,
   "metadata": {},
   "outputs": [
    {
     "data": {
      "text/plain": [
       "(['./data\\\\ann1.csv',\n",
       "  './data\\\\ann2.csv',\n",
       "  './data\\\\ann3.csv',\n",
       "  './data\\\\ann4.csv',\n",
       "  './data\\\\ann5.csv'],\n",
       " ['./data\\\\image1',\n",
       "  './data\\\\Image2',\n",
       "  './data\\\\Image3',\n",
       "  './data\\\\image4',\n",
       "  './data\\\\Image5'])"
      ]
     },
     "execution_count": 4,
     "metadata": {},
     "output_type": "execute_result"
    }
   ],
   "source": [
    "anns, images"
   ]
  },
  {
   "cell_type": "code",
   "execution_count": 57,
   "metadata": {},
   "outputs": [
    {
     "name": "stdout",
     "output_type": "stream",
     "text": [
      "792 792\n",
      "==============================\n",
      "648 648\n",
      "==============================\n",
      "766 766\n",
      "==============================\n",
      "645 645\n",
      "==============================\n",
      "662 662\n",
      "==============================\n"
     ]
    }
   ],
   "source": [
    "file_numbers = []\n",
    "start_epoch = []\n",
    "\n",
    "name_idx = [0, 0, 0, 0, 0]\n",
    "\n",
    "for ann, image in zip(anns, images):\n",
    "    df = pd.read_csv(ann)\n",
    "    use_df = df[df['Event'].isin(use_label)]\n",
    "\n",
    "    file_names = os.listdir(image)\n",
    "    labels = use_df[\"Event\"].values\n",
    "    \n",
    "    print(len(file_names), len(labels))\n",
    "    print(\"==============================\")\n",
    "    \n",
    "    for i, (label, epoch) in enumerate(zip(labels, use_df['Start Epoch'].values)):\n",
    "        load_path = os.path.join(image, epoch + '.png')\n",
    "        \n",
    "        event_idx = use_label.index(label)\n",
    "        \n",
    "        # save_file_name = str(name_idx[event_idx]) + \".png\"\n",
    "        \n",
    "        # save_path = os.path.join(DATASET_PATH, branch, label, save_file_name) \n",
    "        \n",
    "        save_path_1 = os.path.join(DATASET_PATH, branch, label, str(name_idx[event_idx]) + \"_0.png\") \n",
    "        save_path_2 = os.path.join(DATASET_PATH, branch, label, str(name_idx[event_idx]) + \"_1.png\") \n",
    "        save_path_3 = os.path.join(DATASET_PATH, branch, label, str(name_idx[event_idx]) + \"_2.png\") \n",
    "        save_path_4 = os.path.join(DATASET_PATH, branch, label, str(name_idx[event_idx]) + \"_3.png\") \n",
    "    \n",
    "        img = Image.open(load_path)\n",
    "        crop_img = img.crop((1, 157, img.width, 310))\n",
    "        # crop_img = img.crop((1, 41.5, img.width, img.height-9))\n",
    "        \n",
    "        channel1 = crop_img.crop((0, 0, crop_img.width, 36.5))\n",
    "        channel2 = crop_img.crop((0, 39, crop_img.width, 75))\n",
    "        channel3 = crop_img.crop((0, 77.5, crop_img.width, 114.5))\n",
    "        channel4 = crop_img.crop((0, 117, crop_img.width, crop_img.height-1))\n",
    "        \n",
    "        channel1.save(save_path_1)\n",
    "        channel2.save(save_path_2)\n",
    "        channel3.save(save_path_3)\n",
    "        channel4.save(save_path_4)\n",
    "        \n",
    "        # shutil.copy(load_path, save_path)\n",
    "        \n",
    "        name_idx[event_idx] += 1"
   ]
  },
  {
   "cell_type": "code",
   "execution_count": 5,
   "metadata": {
    "scrolled": true
   },
   "outputs": [],
   "source": [
    "# 322 ~ 323 라벨이 없음"
   ]
  },
  {
   "cell_type": "code",
   "execution_count": 6,
   "metadata": {},
   "outputs": [],
   "source": [
    "branch = ['train', 'test']"
   ]
  },
  {
   "cell_type": "code",
   "execution_count": 7,
   "metadata": {},
   "outputs": [],
   "source": [
    "for b in branch:\n",
    "    for u in use_label:\n",
    "        path = os.path.join(DATASET_PATH, b, u)\n",
    "\n",
    "        if not os.path.exists(path):\n",
    "            os.makedirs(path)"
   ]
  },
  {
   "cell_type": "code",
   "execution_count": 8,
   "metadata": {},
   "outputs": [],
   "source": [
    "for u in use_label:\n",
    "    load_paths = glob.glob(f\"{os.path.join(DATASET_PATH, 'total', u)}/*\")\n",
    "\n",
    "    num_data = len(load_paths)\n",
    "\n",
    "    split = int(num_data * 0.7)\n",
    "\n",
    "    train_paths = load_paths[:split]\n",
    "    valid_paths = load_paths[split:]\n",
    "\n",
    "    random.shuffle(load_paths)\n",
    "\n",
    "    train_root_path = os.path.join(DATASET_PATH, 'train', u)\n",
    "    valid_root_path = os.path.join(DATASET_PATH, 'test', u)\n",
    "\n",
    "    for i, load_file_path in enumerate(train_paths):\n",
    "        file_name = str(i) + \".png\"\n",
    "\n",
    "        save_file_path = os.path.join(train_root_path, file_name)\n",
    "        \n",
    "        shutil.copy(load_file_path, save_file_path)\n",
    "        \n",
    "    for i, load_file_path in enumerate(valid_paths):\n",
    "        file_name = str(i) + \".png\"\n",
    "\n",
    "        save_file_path = os.path.join(valid_root_path, file_name)\n",
    "        \n",
    "        shutil.copy(load_file_path, save_file_path)"
   ]
  },
  {
   "cell_type": "code",
   "execution_count": null,
   "metadata": {},
   "outputs": [],
   "source": []
  }
 ],
 "metadata": {
  "kernelspec": {
   "display_name": "torch",
   "language": "python",
   "name": "torch"
  },
  "language_info": {
   "codemirror_mode": {
    "name": "ipython",
    "version": 3
   },
   "file_extension": ".py",
   "mimetype": "text/x-python",
   "name": "python",
   "nbconvert_exporter": "python",
   "pygments_lexer": "ipython3",
   "version": "3.6.10"
  }
 },
 "nbformat": 4,
 "nbformat_minor": 4
}
